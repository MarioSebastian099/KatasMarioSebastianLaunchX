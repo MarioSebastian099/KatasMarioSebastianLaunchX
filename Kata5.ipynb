{
 "cells": [
  {
   "cell_type": "markdown",
   "metadata": {},
   "source": [
    "# Ejercicio 1"
   ]
  },
  {
   "cell_type": "code",
   "execution_count": 8,
   "metadata": {},
   "outputs": [
    {
     "name": "stdout",
     "output_type": "stream",
     "text": [
      "628949330\n",
      "390577534\n"
     ]
    }
   ],
   "source": [
    "from math import ceil\n",
    "distance_earth = 149597870 # in km\n",
    "distance_jupiter = 778547200 # in km\n",
    "# Calculamos la distancia entre los planetas en km\n",
    "distance_km = distance_jupiter - distance_earth\n",
    "print(distance_km)\n",
    "#Convertimos la distancia a mi\n",
    "distance_mi = distance_km * 0.621 # in mi\n",
    "print(ceil(distance_mi))\n"
   ]
  },
  {
   "cell_type": "markdown",
   "metadata": {},
   "source": [
    "# Ejercicio 2"
   ]
  },
  {
   "cell_type": "code",
   "execution_count": 15,
   "metadata": {},
   "outputs": [
    {
     "name": "stdout",
     "output_type": "stream",
     "text": [
      "50300000\n",
      "31236300.0\n"
     ]
    }
   ],
   "source": [
    "# Obtenemos las distancias\n",
    "distance_first_planet = int(input('Introduzca la distancia del sol para el 1er planeta en KM'))\n",
    "distance_second_planet = int(input('Introduzca la distancia del sol para el 2do planeta en KM'))\n",
    "# Calculamos la distancia en km y \n",
    "distance_km = abs(distance_second_planet - distance_first_planet)\n",
    "print(distance_km)\n",
    "# Calculamos la diatancia en mi\n",
    "distance_mi = distance_km * 0.621\n",
    "print(distance_mi)"
   ]
  }
 ],
 "metadata": {
  "interpreter": {
   "hash": "d852074cd492bad93834d70e84ce445e7455291a4278253607ab8f6dbaa69cbe"
  },
  "kernelspec": {
   "display_name": "Python 3.10.2 64-bit",
   "language": "python",
   "name": "python3"
  },
  "language_info": {
   "codemirror_mode": {
    "name": "ipython",
    "version": 3
   },
   "file_extension": ".py",
   "mimetype": "text/x-python",
   "name": "python",
   "nbconvert_exporter": "python",
   "pygments_lexer": "ipython3",
   "version": "3.10.2"
  },
  "orig_nbformat": 4
 },
 "nbformat": 4,
 "nbformat_minor": 2
}

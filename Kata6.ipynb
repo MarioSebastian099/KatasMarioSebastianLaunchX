{
 "cells": [
  {
   "cell_type": "markdown",
   "metadata": {},
   "source": [
    "# Ejercicio 1"
   ]
  },
  {
   "cell_type": "code",
   "execution_count": 7,
   "metadata": {},
   "outputs": [
    {
     "name": "stdout",
     "output_type": "stream",
     "text": [
      "There are 8 planets\n",
      "The last planet is Pluton\n"
     ]
    }
   ],
   "source": [
    "# Creamos nuestra lista de planetas\n",
    "planets = ['Mercury', 'Venus', 'Earth', 'Mars', 'Jupiter', 'Saturn', 'Uranus', 'Neptune']\n",
    "print('There are', len(planets), 'planets')\n",
    "# Agregamos a Pluton\n",
    "planets.append('Pluton')\n",
    "# Mostramos el numero de planetas y el ultimo planeta de la lista\n",
    "print('The last planet is',planets[-1])\n"
   ]
  },
  {
   "cell_type": "markdown",
   "metadata": {},
   "source": [
    "# Ejercicio 2"
   ]
  },
  {
   "cell_type": "code",
   "execution_count": 15,
   "metadata": {},
   "outputs": [
    {
     "name": "stdout",
     "output_type": "stream",
     "text": [
      "Mars is the 4 planet from the sun\n",
      "The planets closest to the sun: ['Mercury', 'Venus', 'Earth']\n",
      "The planets farthest from the sun: ['Jupiter', 'Saturn', 'Neptune']\n"
     ]
    }
   ],
   "source": [
    "#Creamos nuestra lista de planetas \n",
    "planets = ['Mercury', 'Venus', 'Earth', 'Mars', 'Jupiter', 'Saturn', 'Neptune']\n",
    "planet = input('Introduzca el nombre del planeta, la primer letra en mayusculas')\n",
    "planet_index = planets.index(planet)\n",
    "print(f'{planet} is the {planet_index + 1} planet from the sun')\n",
    "print(f'The planets closest to the sun: {planets[0:planet_index]}')\n",
    "print(f'The planets farthest from the sun: {planets[planet_index + 1:]}')"
   ]
  }
 ],
 "metadata": {
  "interpreter": {
   "hash": "d852074cd492bad93834d70e84ce445e7455291a4278253607ab8f6dbaa69cbe"
  },
  "kernelspec": {
   "display_name": "Python 3.10.2 64-bit",
   "language": "python",
   "name": "python3"
  },
  "language_info": {
   "codemirror_mode": {
    "name": "ipython",
    "version": 3
   },
   "file_extension": ".py",
   "mimetype": "text/x-python",
   "name": "python",
   "nbconvert_exporter": "python",
   "pygments_lexer": "ipython3",
   "version": "3.10.2"
  },
  "orig_nbformat": 4
 },
 "nbformat": 4,
 "nbformat_minor": 2
}

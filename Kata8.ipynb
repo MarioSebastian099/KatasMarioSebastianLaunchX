{
 "cells": [
  {
   "cell_type": "markdown",
   "metadata": {},
   "source": [
    "# Ejercicio 1"
   ]
  },
  {
   "cell_type": "code",
   "execution_count": 16,
   "metadata": {},
   "outputs": [
    {
     "name": "stdout",
     "output_type": "stream",
     "text": [
      "Mars has 2 mons\n",
      "Mars polar circumference: 6752\n"
     ]
    }
   ],
   "source": [
    "# Creamos el diccionario\n",
    "\n",
    "planet = {\n",
    "    'name': 'Mars',\n",
    "    'moons': 2\n",
    "}\n",
    "# Mostrar el planeta y el número de lunas que tiene\n",
    "\n",
    "print(f'{planet[\"name\"]} has {planet[\"moons\"]} mons')\n",
    "\n",
    "# Creamos el 2do diccionario y agregamos el nuevo valor \n",
    "planet['circumference_km'] = {\n",
    "    'polar': 6752,\n",
    "    'equatorial': 6792\n",
    "} \n",
    "\n",
    "print(f'{planet[\"name\"]} polar circumference: {planet[\"circumference_km\"][\"polar\"]}')"
   ]
  },
  {
   "cell_type": "markdown",
   "metadata": {},
   "source": [
    "# Ejercicio 2"
   ]
  },
  {
   "cell_type": "code",
   "execution_count": 8,
   "metadata": {},
   "outputs": [
    {
     "name": "stdout",
     "output_type": "stream",
     "text": [
      "Lunas totales: 214 \n",
      "Average: 17.833333333333332 \n"
     ]
    }
   ],
   "source": [
    "# Creamos el diccionario Planets and Moons\n",
    "\n",
    "planet_moons = {\n",
    "    'mercury': 0,\n",
    "    'venus': 0,\n",
    "    'earth': 1,\n",
    "    'mars': 2,\n",
    "    'jupiter': 79,\n",
    "    'saturn': 82,\n",
    "    'uranus': 27,\n",
    "    'neptune': 14,\n",
    "    'pluto': 5,\n",
    "    'haumea': 2,\n",
    "    'makemake': 1,\n",
    "    'eris': 1\n",
    "}\n",
    "# Recuperamos el # de lunas y planetas del diccionario\n",
    "\n",
    "moons = planet_moons.values()\n",
    "planets = len(planet_moons.keys())\n",
    "# Contamos el número de lunas\n",
    "\n",
    "total_moons = 0\n",
    "for moon in moons:\n",
    "    total_moons += moon\n",
    "print(f'Lunas totales: {total_moons} ')\n",
    "average = total_moons / planets\n",
    "print(f'Average: {average} ')"
   ]
  }
 ],
 "metadata": {
  "interpreter": {
   "hash": "d852074cd492bad93834d70e84ce445e7455291a4278253607ab8f6dbaa69cbe"
  },
  "kernelspec": {
   "display_name": "Python 3.10.2 64-bit",
   "language": "python",
   "name": "python3"
  },
  "language_info": {
   "codemirror_mode": {
    "name": "ipython",
    "version": 3
   },
   "file_extension": ".py",
   "mimetype": "text/x-python",
   "name": "python",
   "nbconvert_exporter": "python",
   "pygments_lexer": "ipython3",
   "version": "3.10.2"
  },
  "orig_nbformat": 4
 },
 "nbformat": 4,
 "nbformat_minor": 2
}

{
 "cells": [
  {
   "cell_type": "markdown",
   "metadata": {},
   "source": [
    "# Ejercicio 1"
   ]
  },
  {
   "cell_type": "code",
   "execution_count": 9,
   "metadata": {},
   "outputs": [
    {
     "name": "stdout",
     "output_type": "stream",
     "text": [
      "8.333333333333334\n",
      "None\n"
     ]
    }
   ],
   "source": [
    "\n",
    "# Función para calcular el promedio\n",
    "def average (tank_1, tank_2, tank_3):\n",
    "    total_average = (tank_1 + tank_2 + tank_3) / 3\n",
    "    return total_average\n",
    "# Función que hace 3 lecturas de combustible y muestra el promedio\n",
    "\n",
    "def fuel_tanks (tank_1, tank_2, tank_3):\n",
    "     print(average(tank_1,tank_2,tank_3))\n",
    "\n",
    "# Función que hace 3 lecturas de combustible, calcula y muestra el promedio\n",
    "# def fuel_tanks (tank_1, tank_2, tank_3):\n",
    "#   average = (tank_1 + tank_2 + tank_3) / 3\n",
    "#   print(average)\n",
    "\n",
    "print(fuel_tanks(10,10,5))"
   ]
  },
  {
   "cell_type": "markdown",
   "metadata": {},
   "source": [
    "# Ejercicio 2"
   ]
  },
  {
   "cell_type": "code",
   "execution_count": 15,
   "metadata": {},
   "outputs": [
    {
     "name": "stdout",
     "output_type": "stream",
     "text": [
      "\n",
      "        Mission to Moon\n",
      "        Estimated Time: 51\n",
      "        Extern Tank: 35\n",
      "        Intern Tank: 100\n",
      "        Pre-Launch: 10 \n",
      "    \n"
     ]
    }
   ],
   "source": [
    "# Creamos la función que crea un informe preciso de la misión\n",
    "\n",
    "def rocket (pre_launch, time, destination, extern_tank, intern_tank):\n",
    "    return f\"\"\"\n",
    "        Mission to {destination}\n",
    "        Estimated Time: {time}\n",
    "        Extern Tank: {extern_tank}\n",
    "        Intern Tank: {intern_tank}\n",
    "        Pre-Launch: {pre_launch} \n",
    "    \"\"\"\n",
    "print(rocket(10,51,'Moon',35,100))\n"
   ]
  },
  {
   "cell_type": "code",
   "execution_count": 16,
   "metadata": {},
   "outputs": [
    {
     "name": "stdout",
     "output_type": "stream",
     "text": [
      "\n",
      "    Mission to Moon\n",
      "    Estimated Time: 60\n",
      "    Fuel Reservoirs: 175\n",
      "    \n"
     ]
    }
   ],
   "source": [
    "# Función que permite culquier # de argumentos\n",
    "def mission_report (destination, *time, **fuel_reservoirs):\n",
    "    return f\"\"\"\n",
    "    Mission to {destination}\n",
    "    Estimated Time: {sum(time)}\n",
    "    Fuel Reservoirs: {sum(fuel_reservoirs.values())}\n",
    "    \"\"\"\n",
    "print(mission_report('Moon', 35, 25, main = 25, extern = 50, intern = 100))"
   ]
  },
  {
   "cell_type": "code",
   "execution_count": 19,
   "metadata": {},
   "outputs": [
    {
     "name": "stdout",
     "output_type": "stream",
     "text": [
      "main: 25 \n",
      "extern: 50 \n",
      "intern: 100 \n",
      "\n",
      "    Mission to Moon\n",
      "    Estimated Time: 60\n",
      "    Fuel Reservoirs: 175\n",
      "    \n"
     ]
    }
   ],
   "source": [
    "# Actualizacion de la función para que muestre el combustible de cada tanque\n",
    "def mission_report1 (destination, *time, **fuel_reservoirs):\n",
    "    report = f\"\"\"\n",
    "    Mission to {destination}\n",
    "    Estimated Time: {sum(time)}\n",
    "    Fuel Reservoirs: {sum(fuel_reservoirs.values())}\n",
    "    \"\"\"\n",
    "    for tank_name, fuel in fuel_reservoirs.items():\n",
    "        print(f'{tank_name}: {fuel} ')\n",
    "    return report\n",
    "print(mission_report1('Moon', 35, 25, main = 25, extern = 50, intern = 100))"
   ]
  }
 ],
 "metadata": {
  "interpreter": {
   "hash": "d852074cd492bad93834d70e84ce445e7455291a4278253607ab8f6dbaa69cbe"
  },
  "kernelspec": {
   "display_name": "Python 3.10.2 64-bit",
   "language": "python",
   "name": "python3"
  },
  "language_info": {
   "codemirror_mode": {
    "name": "ipython",
    "version": 3
   },
   "file_extension": ".py",
   "mimetype": "text/x-python",
   "name": "python",
   "nbconvert_exporter": "python",
   "pygments_lexer": "ipython3",
   "version": "3.10.2"
  },
  "orig_nbformat": 4
 },
 "nbformat": 4,
 "nbformat_minor": 2
}

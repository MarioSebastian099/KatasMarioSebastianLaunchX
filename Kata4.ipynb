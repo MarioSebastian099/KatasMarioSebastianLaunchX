{
 "cells": [
  {
   "cell_type": "markdown",
   "metadata": {},
   "source": [
    "# Kata 4"
   ]
  },
  {
   "cell_type": "markdown",
   "metadata": {},
   "source": [
    "# Ejercicio 1"
   ]
  },
  {
   "cell_type": "code",
   "execution_count": 16,
   "metadata": {},
   "outputs": [
    {
     "name": "stdout",
     "output_type": "stream",
     "text": [
      "['Interesting facts about the Moon', \" The Moon is Earth's only satellite\", ' There are several interesting facts about the Moon and how it affects life here on Earth', ' \\nOn average, the Moon moves 4cm away from the Earth every year', ' This yearly drift is not significant enough to cause immediate effects on Earth', ' The highest daylight temperature of the Moon is 127 C', '']\n",
      " \n",
      "On average, the Moon moves 4cm away from the Earth every year\n",
      " The highest daylight temperature of the Moon is 127 C\n",
      " \n",
      "On average, the Moon moves 4cm away from the Earth every year\n",
      " The highest daylight temperature of the Moon is 127 Celsius\n"
     ]
    }
   ],
   "source": [
    "text = \"\"\"Interesting facts about the Moon. The Moon is Earth's only satellite. There are several interesting facts about the Moon and how it affects life here on Earth. \n",
    "On average, the Moon moves 4cm away from the Earth every year. This yearly drift is not significant enough to cause immediate effects on Earth. The highest daylight temperature of the Moon is 127 C.\"\"\"\n",
    "# Dividimos el texto en oraciones\n",
    "\n",
    "parts = text.split('.')\n",
    "print(parts)\n",
    "# Definimos palabras clave\n",
    "\n",
    "key_words = ['average', 'temperature', 'distance']\n",
    "# Extraemos los datos relacionados con las key words\n",
    "\n",
    "for item in parts:\n",
    "    for key_word in key_words:\n",
    "        if key_word in item:\n",
    "            print(item)\n",
    "            break\n",
    "# Cambiamos los grados a C Celsius\n",
    "\n",
    "for item in parts:\n",
    "    for key_word in key_words:\n",
    "        if key_word in item:\n",
    "            print(item.replace('C','Celsius'))\n",
    "\n"
   ]
  },
  {
   "cell_type": "markdown",
   "metadata": {},
   "source": [
    "# Ejercicio 2"
   ]
  },
  {
   "cell_type": "code",
   "execution_count": 33,
   "metadata": {},
   "outputs": [
    {
     "name": "stdout",
     "output_type": "stream",
     "text": [
      "Gravity Facts About Moon\n",
      "------------------------------\n",
      "Planet Name: Earth\n",
      "Gravity on Moon: 1.6199999999999999 m/s2'\n",
      "Gravity Facts About Moon\n",
      "------------------------------\n",
      "Planet Name: Earth\n",
      "Gravity on Moon: 1.6199999999999999 m/s2'\n"
     ]
    }
   ],
   "source": [
    "name = \"Moon\"\n",
    "gravity = 0.00162 # in kms\n",
    "planet = \"Earth\"\n",
    "# Hacemos el titulo\n",
    "title = f'gravity facts about {name}\\n'.title()\n",
    "# Creamos la plantilla\n",
    "fstr = f\"\"\"{'-'*30}\n",
    "Planet Name: {planet}\n",
    "Gravity on {name}: {gravity*1000} m/s2'\"\"\"\n",
    "template = title + fstr\n",
    "print(template)\n",
    "#Nuevos datos muestra\n",
    "name = \"Ganymede\"\n",
    "gravity = 0.00143 # in kms\n",
    "planet = \"Mars\"\n",
    "print(template)"
   ]
  },
  {
   "cell_type": "code",
   "execution_count": 36,
   "metadata": {},
   "outputs": [
    {
     "name": "stdout",
     "output_type": "stream",
     "text": [
      "\n",
      "Gravity facts about: Ganymede\n",
      "--------------------------------------------------------------------\n",
      "Planet Name: Mars\n",
      "Gravity on Ganymede: 1.4300000000000002 m/s2\n",
      "\n"
     ]
    }
   ],
   "source": [
    "# Nueva Plantilla\n",
    "name = \"Ganymede\"\n",
    "gravity = 0.00143 # in kms\n",
    "planet = \"Mars\"\n",
    "new_template = \"\"\"\n",
    "Gravity facts about: {name}\n",
    "--------------------------------------------------------------------\n",
    "Planet Name: {planet}\n",
    "Gravity on {name}: {gravity} m/s2\n",
    "\"\"\"\n",
    "#Imprimimos con .format\n",
    "print(new_template.format(name = name, planet = planet, gravity = gravity*1000))"
   ]
  }
 ],
 "metadata": {
  "interpreter": {
   "hash": "d852074cd492bad93834d70e84ce445e7455291a4278253607ab8f6dbaa69cbe"
  },
  "kernelspec": {
   "display_name": "Python 3.10.2 64-bit",
   "language": "python",
   "name": "python3"
  },
  "language_info": {
   "codemirror_mode": {
    "name": "ipython",
    "version": 3
   },
   "file_extension": ".py",
   "mimetype": "text/x-python",
   "name": "python",
   "nbconvert_exporter": "python",
   "pygments_lexer": "ipython3",
   "version": "3.10.2"
  },
  "orig_nbformat": 4
 },
 "nbformat": 4,
 "nbformat_minor": 2
}
